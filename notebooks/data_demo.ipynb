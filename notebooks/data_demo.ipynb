{
 "cells": [
  {
   "cell_type": "markdown",
   "metadata": {},
   "source": [
    "# PINN Observer Demo Notebook\n",
    "\n",
    "This notebook demonstrates the usage of the PINN Observer package for training and evaluating physics-informed neural network observers."
   ]
  },
  {
   "cell_type": "code",
   "execution_count": null,
   "metadata": {},
   "outputs": [],
   "source": [
    "# Import required packages\n",
    "import numpy as np\n",
    "import matplotlib.pyplot as plt\n",
    "import torch\n",
    "\n",
    "# Import PINN observer components\n",
    "from pinn_observer import (\n",
    "    generate_dataset, \n",
    "    PINNObserver, \n",
    "    train, \n",
    "    plot_pinn_observer_separate_figures,\n",
    "    SYSTEM_MAP\n",
    ")\n",
    "\n",
    "print(\"Available systems:\", list(SYSTEM_MAP.keys()))"
   ]
  },
  {
   "cell_type": "markdown",
   "metadata": {},
   "source": [
    "## 1. Data Generation\n",
    "\n",
    "Let's start by generating some training data for the modified academic system."
   ]
  },
  {
   "cell_type": "code",
   "execution_count": null,
   "metadata": {},
   "outputs": [],
   "source": [
    "# Generate dataset\n",
    "system_name = \"modified_academic\"\n",
    "t_colloc, x_colloc, y_colloc, t_bc, x_bc0 = generate_dataset(\n",
    "    name=system_name,\n",
    "    t0=0.0,\n",
    "    t_end=10.0,\n",
    "    N_colloc=1000,\n",
    "    N_bc=10,\n",
    "    seed=42\n",
    ")\n",
    "\n",
    "print(f\"Generated data for {system_name}:\")\n",
    "print(f\"  Collocation points: {len(t_colloc)}\")\n",
    "print(f\"  State dimension: {x_colloc.shape[1]}\")\n",
    "print(f\"  Measurement dimension: {y_colloc.shape[1]}\")\n",
    "print(f\"  Time range: [{t_colloc.min():.2f}, {t_colloc.max():.2f}]\")"
   ]
  },
  {
   "cell_type": "code",
   "execution_count": null,
   "metadata": {},
   "outputs": [],
   "source": [
    "# Visualize the true trajectories\n",
    "fig, axes = plt.subplots(2, 1, figsize=(10, 6), sharex=True)\n",
    "\n",
    "for i in range(x_colloc.shape[1]):\n",
    "    axes[i].plot(t_colloc, x_colloc[:, i], 'b-', label=f'$x_{i+1}$(t)')\n",
    "    axes[i].set_ylabel(f'$x_{i+1}$(t)')\n",
    "    axes[i].grid(True, alpha=0.3)\n",
    "    axes[i].legend()\n",
    "\n",
    "axes[-1].set_xlabel('Time (s)')\n",
    "plt.suptitle(f'True Trajectories - {system_name.replace(\"_\", \" \").title()}')\n",
    "plt.tight_layout()\n",
    "plt.show()"
   ]
  },
  {
   "cell_type": "markdown",
   "metadata": {},
   "source": [
    "## 2. Model Training\n",
    "\n",
    "Now let's train a PINN observer on this system with a smaller number of epochs for demonstration."
   ]
  },
  {
   "cell_type": "code",
   "execution_count": null,
   "metadata": {},
   "outputs": [],
   "source": [
    "# Train the PINN observer\n",
    "model, best_loss = train(\n",
    "    system=system_name,\n",
    "    epochs=10000,  # Reduced for demo\n",
    "    lr=1e-3,\n",
    "    Nc=1000,       # Reduced for demo\n",
    "    Nbc=10,\n",
    "    t0=0.0,\n",
    "    t_end=10.0,\n",
    "    seed=42,\n",
    "    log_interval=1000,\n",
    "    weight_ic=1.0,\n",
    "    weight_pde=1.0,\n",
    "    weight_y=1.0\n",
    ")\n",
    "\n",
    "print(f\"Training completed! Best loss: {best_loss:.6e}\")"
   ]
  },
  {
   "cell_type": "markdown",
   "metadata": {},
   "source": [
    "## 3. Model Evaluation\n",
    "\n",
    "Let's evaluate the trained model and visualize the results."
   ]
  },
  {
   "cell_type": "code",
   "execution_count": null,
   "metadata": {},
   "outputs": [],
   "source": [
    "# Generate evaluation data\n",
    "device = torch.device(\"cuda\" if torch.cuda.is_available() else \"cpu\")\n",
    "t_eval = np.linspace(0, 10, 500)\n",
    "t_tensor = torch.tensor(t_eval, dtype=torch.float32, device=device).unsqueeze(1)\n",
    "\n",
    "# Get predictions\n",
    "model.eval()\n",
    "with torch.no_grad():\n",
    "    out = model(t_tensor)\n",
    "    x_pred = out[:, :2].cpu().numpy()  # First 2 columns are states\n",
    "    L_pred = out[:, 2:].view(-1, 2, 1).cpu().numpy()  # Observer gain\n",
    "\n",
    "print(f\"Predicted states shape: {x_pred.shape}\")\n",
    "print(f\"Observer gain shape: {L_pred.shape}\")"
   ]
  },
  {
   "cell_type": "code",
   "execution_count": null,
   "metadata": {},
   "outputs": [],
   "source": [
    "# Generate true trajectory for comparison\n",
    "from scipy.integrate import odeint\n",
    "sys_fn = SYSTEM_MAP[system_name]\n",
    "x0 = np.array([2, -1])  # Initial condition for modified academic\n",
    "x_true = odeint(sys_fn, x0, t_eval)\n",
    "\n",
    "# Plot comparison\n",
    "fig, axes = plt.subplots(2, 1, figsize=(12, 8), sharex=True)\n",
    "\n",
    "for i in range(2):\n",
    "    axes[i].plot(t_eval, x_true[:, i], 'r-', linewidth=2, label='True')\n",
    "    axes[i].plot(t_eval, x_pred[:, i], 'g--', linewidth=2, label='PINN Predicted')\n",
    "    axes[i].set_ylabel(f'$x_{i+1}$(t)')\n",
    "    axes[i].grid(True, alpha=0.3)\n",
    "    axes[i].legend()\n",
    "\n",
    "axes[-1].set_xlabel('Time (s)')\n",
    "plt.suptitle('PINN Observer Performance')\n",
    "plt.tight_layout()\n",
    "plt.show()\n",
    "\n",
    "# Calculate and display errors\n",
    "errors = np.abs(x_true - x_pred)\n",
    "print(f\"Mean absolute errors:\")\n",
    "for i in range(2):\n",
    "    print(f\"  State {i+1}: {np.mean(errors[:, i]):.6f}\")"
   ]
  },
  {
   "cell_type": "markdown",
   "metadata": {},
   "source": [
    "## 4. Observer Gain Analysis\n",
    "\n",
    "Let's examine how the observer gain matrix evolves over time."
   ]
  },
  {
   "cell_type": "code",
   "execution_count": null,
   "metadata": {},
   "outputs": [],
   "source": [
    "# Plot observer gain components\n",
    "fig, axes = plt.subplots(2, 1, figsize=(10, 6), sharex=True)\n",
    "\n",
    "# L is shape (N, 2, 1), so L[:, i, 0] gives the i-th component\n",
    "for i in range(2):\n",
    "    axes[i].plot(t_eval, L_pred[:, i, 0], 'b-', linewidth=2)\n",
    "    axes[i].set_ylabel(f'$L_{i+1}$(t)')\n",
    "    axes[i].grid(True, alpha=0.3)\n",
    "    axes[i].set_title(f'Observer Gain Component {i+1}')\n",
    "\n",
    "axes[-1].set_xlabel('Time (s)')\n",
    "plt.suptitle('Time-varying Observer Gain Matrix')\n",
    "plt.tight_layout()\n",
    "plt.show()"
   ]
  },
  {
   "cell_type": "markdown",
   "metadata": {},
   "source": [
    "## 5. System Exploration\n",
    "\n",
    "Let's briefly explore different systems available in the package."
   ]
  },
  {
   "cell_type": "code",
   "execution_count": null,
   "metadata": {},
   "outputs": [],
   "source": [
    "# Compare trajectories of different systems\n",
    "systems_to_compare = [\"reverse\", \"academic\", \"modified_academic\"]\n",
    "fig, axes = plt.subplots(len(systems_to_compare), 2, figsize=(12, 8), sharex=True)\n",
    "\n",
    "for row, sys_name in enumerate(systems_to_compare):\n",
    "    # Generate data for this system\n",
    "    t_comp, x_comp, _, _, _ = generate_dataset(\n",
    "        name=sys_name, t0=0.0, t_end=5.0, N_colloc=500, N_bc=10, seed=42\n",
    "    )\n",
    "    \n",
    "    # Plot first two states\n",
    "    for col in range(min(2, x_comp.shape[1])):\n",
    "        axes[row, col].plot(t_comp, x_comp[:, col], linewidth=2)\n",
    "        axes[row, col].set_ylabel(f'$x_{col+1}$(t)')\n",
    "        axes[row, col].grid(True, alpha=0.3)\n",
    "        if col == 0:\n",
    "            axes[row, col].text(0.02, 0.95, sys_name.replace('_', ' ').title(), \n",
    "                               transform=axes[row, col].transAxes, va='top', \n",
    "                               bbox=dict(boxstyle='round', facecolor='white', alpha=0.8))\n",
    "\n",
    "axes[-1, 0].set_xlabel('Time (s)')\n",
    "axes[-1, 1].set_xlabel('Time (s)')\n",
    "plt.suptitle('Comparison of Different Dynamical Systems')\n",
    "plt.tight_layout()\n",
    "plt.show()"
   ]
  },
  {
   "cell_type": "markdown",
   "metadata": {},
   "source": [
    "## Conclusion\n",
    "\n",
    "This notebook demonstrated:\n",
    "\n",
    "1. **Data Generation**: How to generate training data for different dynamical systems\n",
    "2. **Model Training**: Training a PINN observer with physics-informed constraints\n",
    "3. **Evaluation**: Comparing predicted vs. true trajectories\n",
    "4. **Analysis**: Examining the learned observer gain matrix\n",
    "5. **System Comparison**: Exploring different available systems\n",
    "\n",
    "The PINN observer successfully learns to estimate system states while respecting the underlying physics, making it a powerful tool for state estimation in nonlinear dynamical systems."
   ]
  }
 ],
 "metadata": {
  "kernelspec": {
   "display_name": "Python 3",
   "language": "python",
   "name": "python3"
  },
  "language_info": {
   "codemirror_mode": {
    "name": "ipython",
    "version": 3
   },
   "file_extension": ".py",
   "mimetype": "text/x-python",
   "name": "python",
   "nbconvert_exporter": "python",
   "pygments_lexer": "ipython3",
   "version": "3.8.5"
  }
 },
 "nbformat": 4,
 "nbformat_minor": 4
}